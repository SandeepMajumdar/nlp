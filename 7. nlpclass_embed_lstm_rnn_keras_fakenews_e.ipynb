{
 "cells": [
  {
   "cell_type": "markdown",
   "metadata": {},
   "source": [
    "# Fake news classification using LSTM, word embeddings, keras sequential"
   ]
  },
  {
   "cell_type": "code",
   "execution_count": 97,
   "metadata": {
    "execution": {
     "iopub.execute_input": "2022-06-17T14:34:09.649595Z",
     "iopub.status.busy": "2022-06-17T14:34:09.649154Z",
     "iopub.status.idle": "2022-06-17T14:34:09.678530Z",
     "shell.execute_reply": "2022-06-17T14:34:09.677540Z",
     "shell.execute_reply.started": "2022-06-17T14:34:09.649548Z"
    }
   },
   "outputs": [],
   "source": [
    "# Courtesy Krish Naik\n",
    "# Will run the model on kaggle GPU since will be running a keras LSTM RNN sequential model"
   ]
  },
  {
   "cell_type": "code",
   "execution_count": 98,
   "metadata": {
    "execution": {
     "iopub.execute_input": "2022-06-17T14:34:10.604785Z",
     "iopub.status.busy": "2022-06-17T14:34:10.604433Z",
     "iopub.status.idle": "2022-06-17T14:34:11.668358Z",
     "shell.execute_reply": "2022-06-17T14:34:11.667560Z",
     "shell.execute_reply.started": "2022-06-17T14:34:10.604757Z"
    }
   },
   "outputs": [
    {
     "data": {
      "text/html": [
       "<div>\n",
       "<style scoped>\n",
       "    .dataframe tbody tr th:only-of-type {\n",
       "        vertical-align: middle;\n",
       "    }\n",
       "\n",
       "    .dataframe tbody tr th {\n",
       "        vertical-align: top;\n",
       "    }\n",
       "\n",
       "    .dataframe thead th {\n",
       "        text-align: right;\n",
       "    }\n",
       "</style>\n",
       "<table border=\"1\" class=\"dataframe\">\n",
       "  <thead>\n",
       "    <tr style=\"text-align: right;\">\n",
       "      <th></th>\n",
       "      <th>id</th>\n",
       "      <th>title</th>\n",
       "      <th>author</th>\n",
       "      <th>text</th>\n",
       "      <th>label</th>\n",
       "    </tr>\n",
       "  </thead>\n",
       "  <tbody>\n",
       "    <tr>\n",
       "      <th>0</th>\n",
       "      <td>0</td>\n",
       "      <td>House Dem Aide: We Didn’t Even See Comey’s Let...</td>\n",
       "      <td>Darrell Lucus</td>\n",
       "      <td>House Dem Aide: We Didn’t Even See Comey’s Let...</td>\n",
       "      <td>1</td>\n",
       "    </tr>\n",
       "    <tr>\n",
       "      <th>1</th>\n",
       "      <td>1</td>\n",
       "      <td>FLYNN: Hillary Clinton, Big Woman on Campus - ...</td>\n",
       "      <td>Daniel J. Flynn</td>\n",
       "      <td>Ever get the feeling your life circles the rou...</td>\n",
       "      <td>0</td>\n",
       "    </tr>\n",
       "    <tr>\n",
       "      <th>2</th>\n",
       "      <td>2</td>\n",
       "      <td>Why the Truth Might Get You Fired</td>\n",
       "      <td>Consortiumnews.com</td>\n",
       "      <td>Why the Truth Might Get You Fired October 29, ...</td>\n",
       "      <td>1</td>\n",
       "    </tr>\n",
       "    <tr>\n",
       "      <th>3</th>\n",
       "      <td>3</td>\n",
       "      <td>15 Civilians Killed In Single US Airstrike Hav...</td>\n",
       "      <td>Jessica Purkiss</td>\n",
       "      <td>Videos 15 Civilians Killed In Single US Airstr...</td>\n",
       "      <td>1</td>\n",
       "    </tr>\n",
       "    <tr>\n",
       "      <th>4</th>\n",
       "      <td>4</td>\n",
       "      <td>Iranian woman jailed for fictional unpublished...</td>\n",
       "      <td>Howard Portnoy</td>\n",
       "      <td>Print \\nAn Iranian woman has been sentenced to...</td>\n",
       "      <td>1</td>\n",
       "    </tr>\n",
       "  </tbody>\n",
       "</table>\n",
       "</div>"
      ],
      "text/plain": [
       "   id                                              title              author  \\\n",
       "0   0  House Dem Aide: We Didn’t Even See Comey’s Let...       Darrell Lucus   \n",
       "1   1  FLYNN: Hillary Clinton, Big Woman on Campus - ...     Daniel J. Flynn   \n",
       "2   2                  Why the Truth Might Get You Fired  Consortiumnews.com   \n",
       "3   3  15 Civilians Killed In Single US Airstrike Hav...     Jessica Purkiss   \n",
       "4   4  Iranian woman jailed for fictional unpublished...      Howard Portnoy   \n",
       "\n",
       "                                                text  label  \n",
       "0  House Dem Aide: We Didn’t Even See Comey’s Let...      1  \n",
       "1  Ever get the feeling your life circles the rou...      0  \n",
       "2  Why the Truth Might Get You Fired October 29, ...      1  \n",
       "3  Videos 15 Civilians Killed In Single US Airstr...      1  \n",
       "4  Print \\nAn Iranian woman has been sentenced to...      1  "
      ]
     },
     "execution_count": 98,
     "metadata": {},
     "output_type": "execute_result"
    }
   ],
   "source": [
    "# Read the csv file\n",
    "import pandas as pd\n",
    "df = pd.read_csv('/home/sandeep/Development/Datasets/Media/fake-news/train.csv')\n",
    "df.head()"
   ]
  },
  {
   "cell_type": "code",
   "execution_count": 99,
   "metadata": {
    "execution": {
     "iopub.execute_input": "2022-06-17T14:34:11.670740Z",
     "iopub.status.busy": "2022-06-17T14:34:11.669924Z",
     "iopub.status.idle": "2022-06-17T14:34:11.684386Z",
     "shell.execute_reply": "2022-06-17T14:34:11.683453Z",
     "shell.execute_reply.started": "2022-06-17T14:34:11.670702Z"
    }
   },
   "outputs": [
    {
     "data": {
      "text/html": [
       "<div>\n",
       "<style scoped>\n",
       "    .dataframe tbody tr th:only-of-type {\n",
       "        vertical-align: middle;\n",
       "    }\n",
       "\n",
       "    .dataframe tbody tr th {\n",
       "        vertical-align: top;\n",
       "    }\n",
       "\n",
       "    .dataframe thead th {\n",
       "        text-align: right;\n",
       "    }\n",
       "</style>\n",
       "<table border=\"1\" class=\"dataframe\">\n",
       "  <thead>\n",
       "    <tr style=\"text-align: right;\">\n",
       "      <th></th>\n",
       "      <th>title</th>\n",
       "      <th>author</th>\n",
       "      <th>text</th>\n",
       "      <th>label</th>\n",
       "    </tr>\n",
       "  </thead>\n",
       "  <tbody>\n",
       "    <tr>\n",
       "      <th>0</th>\n",
       "      <td>House Dem Aide: We Didn’t Even See Comey’s Let...</td>\n",
       "      <td>Darrell Lucus</td>\n",
       "      <td>House Dem Aide: We Didn’t Even See Comey’s Let...</td>\n",
       "      <td>1</td>\n",
       "    </tr>\n",
       "  </tbody>\n",
       "</table>\n",
       "</div>"
      ],
      "text/plain": [
       "                                               title         author  \\\n",
       "0  House Dem Aide: We Didn’t Even See Comey’s Let...  Darrell Lucus   \n",
       "\n",
       "                                                text  label  \n",
       "0  House Dem Aide: We Didn’t Even See Comey’s Let...      1  "
      ]
     },
     "execution_count": 99,
     "metadata": {},
     "output_type": "execute_result"
    }
   ],
   "source": [
    "# The id column is redundant, we can drop it off\n",
    "df.drop('id', axis=1, inplace=True)\n",
    "df.head(1)"
   ]
  },
  {
   "cell_type": "code",
   "execution_count": 100,
   "metadata": {
    "execution": {
     "iopub.execute_input": "2022-06-17T14:34:11.687428Z",
     "iopub.status.busy": "2022-06-17T14:34:11.687139Z",
     "iopub.status.idle": "2022-06-17T14:34:11.702106Z",
     "shell.execute_reply": "2022-06-17T14:34:11.701156Z",
     "shell.execute_reply.started": "2022-06-17T14:34:11.687402Z"
    }
   },
   "outputs": [
    {
     "data": {
      "text/plain": [
       "title      558\n",
       "author    1957\n",
       "text        39\n",
       "label        0\n",
       "dtype: int64"
      ]
     },
     "execution_count": 100,
     "metadata": {},
     "output_type": "execute_result"
    }
   ],
   "source": [
    "# Check for nan values\n",
    "df.isnull().sum()"
   ]
  },
  {
   "cell_type": "code",
   "execution_count": 101,
   "metadata": {
    "execution": {
     "iopub.execute_input": "2022-06-17T14:34:11.704229Z",
     "iopub.status.busy": "2022-06-17T14:34:11.703367Z",
     "iopub.status.idle": "2022-06-17T14:34:11.724687Z",
     "shell.execute_reply": "2022-06-17T14:34:11.723870Z",
     "shell.execute_reply.started": "2022-06-17T14:34:11.704204Z"
    }
   },
   "outputs": [
    {
     "data": {
      "text/html": [
       "<div>\n",
       "<style scoped>\n",
       "    .dataframe tbody tr th:only-of-type {\n",
       "        vertical-align: middle;\n",
       "    }\n",
       "\n",
       "    .dataframe tbody tr th {\n",
       "        vertical-align: top;\n",
       "    }\n",
       "\n",
       "    .dataframe thead th {\n",
       "        text-align: right;\n",
       "    }\n",
       "</style>\n",
       "<table border=\"1\" class=\"dataframe\">\n",
       "  <thead>\n",
       "    <tr style=\"text-align: right;\">\n",
       "      <th></th>\n",
       "      <th>title</th>\n",
       "      <th>author</th>\n",
       "      <th>text</th>\n",
       "      <th>label</th>\n",
       "    </tr>\n",
       "  </thead>\n",
       "  <tbody>\n",
       "    <tr>\n",
       "      <th>0</th>\n",
       "      <td>House Dem Aide: We Didn’t Even See Comey’s Let...</td>\n",
       "      <td>Darrell Lucus</td>\n",
       "      <td>House Dem Aide: We Didn’t Even See Comey’s Let...</td>\n",
       "      <td>1</td>\n",
       "    </tr>\n",
       "    <tr>\n",
       "      <th>1</th>\n",
       "      <td>FLYNN: Hillary Clinton, Big Woman on Campus - ...</td>\n",
       "      <td>Daniel J. Flynn</td>\n",
       "      <td>Ever get the feeling your life circles the rou...</td>\n",
       "      <td>0</td>\n",
       "    </tr>\n",
       "  </tbody>\n",
       "</table>\n",
       "</div>"
      ],
      "text/plain": [
       "                                               title           author  \\\n",
       "0  House Dem Aide: We Didn’t Even See Comey’s Let...    Darrell Lucus   \n",
       "1  FLYNN: Hillary Clinton, Big Woman on Campus - ...  Daniel J. Flynn   \n",
       "\n",
       "                                                text  label  \n",
       "0  House Dem Aide: We Didn’t Even See Comey’s Let...      1  \n",
       "1  Ever get the feeling your life circles the rou...      0  "
      ]
     },
     "execution_count": 101,
     "metadata": {},
     "output_type": "execute_result"
    }
   ],
   "source": [
    "# Since about 10% of the values are nan, we can drop these rows\n",
    "df.dropna(inplace=True)\n",
    "df.head(2)"
   ]
  },
  {
   "cell_type": "code",
   "execution_count": 102,
   "metadata": {
    "execution": {
     "iopub.execute_input": "2022-06-17T14:34:11.727355Z",
     "iopub.status.busy": "2022-06-17T14:34:11.726833Z",
     "iopub.status.idle": "2022-06-17T14:34:11.733508Z",
     "shell.execute_reply": "2022-06-17T14:34:11.732755Z",
     "shell.execute_reply.started": "2022-06-17T14:34:11.727319Z"
    }
   },
   "outputs": [],
   "source": [
    "# Separate the independent and dependent features\n",
    "X = df.iloc[:,:-1]\n",
    "y = df.iloc[:,-1]"
   ]
  },
  {
   "cell_type": "code",
   "execution_count": 103,
   "metadata": {
    "execution": {
     "iopub.execute_input": "2022-06-17T14:34:11.735326Z",
     "iopub.status.busy": "2022-06-17T14:34:11.734790Z",
     "iopub.status.idle": "2022-06-17T14:34:11.743727Z",
     "shell.execute_reply": "2022-06-17T14:34:11.742942Z",
     "shell.execute_reply.started": "2022-06-17T14:34:11.735277Z"
    }
   },
   "outputs": [
    {
     "data": {
      "text/plain": [
       "((18285, 3), (18285,))"
      ]
     },
     "execution_count": 103,
     "metadata": {},
     "output_type": "execute_result"
    }
   ],
   "source": [
    "X.shape, y.shape"
   ]
  },
  {
   "cell_type": "code",
   "execution_count": 104,
   "metadata": {
    "execution": {
     "iopub.execute_input": "2022-06-17T14:34:11.916685Z",
     "iopub.status.busy": "2022-06-17T14:34:11.916044Z",
     "iopub.status.idle": "2022-06-17T14:34:11.920625Z",
     "shell.execute_reply": "2022-06-17T14:34:11.919868Z",
     "shell.execute_reply.started": "2022-06-17T14:34:11.916648Z"
    }
   },
   "outputs": [],
   "source": [
    "import tensorflow as tf"
   ]
  },
  {
   "cell_type": "code",
   "execution_count": 105,
   "metadata": {
    "execution": {
     "iopub.execute_input": "2022-06-17T14:34:12.189328Z",
     "iopub.status.busy": "2022-06-17T14:34:12.188554Z",
     "iopub.status.idle": "2022-06-17T14:34:12.194589Z",
     "shell.execute_reply": "2022-06-17T14:34:12.193805Z",
     "shell.execute_reply.started": "2022-06-17T14:34:12.189271Z"
    }
   },
   "outputs": [
    {
     "data": {
      "text/plain": [
       "'2.6.4'"
      ]
     },
     "execution_count": 105,
     "metadata": {},
     "output_type": "execute_result"
    }
   ],
   "source": [
    "tf.__version__"
   ]
  },
  {
   "cell_type": "code",
   "execution_count": 106,
   "metadata": {
    "execution": {
     "iopub.execute_input": "2022-06-17T14:34:12.724459Z",
     "iopub.status.busy": "2022-06-17T14:34:12.724076Z",
     "iopub.status.idle": "2022-06-17T14:34:12.729237Z",
     "shell.execute_reply": "2022-06-17T14:34:12.728165Z",
     "shell.execute_reply.started": "2022-06-17T14:34:12.724427Z"
    }
   },
   "outputs": [],
   "source": [
    "from tensorflow.keras.layers import Embedding, LSTM, Dense, Dropout\n",
    "from tensorflow.keras.preprocessing.sequence import pad_sequences\n",
    "from tensorflow.keras.models import Sequential\n",
    "from tensorflow.keras.preprocessing.text import one_hot"
   ]
  },
  {
   "cell_type": "code",
   "execution_count": 107,
   "metadata": {
    "execution": {
     "iopub.execute_input": "2022-06-17T14:34:13.121085Z",
     "iopub.status.busy": "2022-06-17T14:34:13.120220Z",
     "iopub.status.idle": "2022-06-17T14:34:13.126569Z",
     "shell.execute_reply": "2022-06-17T14:34:13.125818Z",
     "shell.execute_reply.started": "2022-06-17T14:34:13.121035Z"
    }
   },
   "outputs": [],
   "source": [
    "# Vocabulary size\n",
    "voc_size = 5000"
   ]
  },
  {
   "cell_type": "code",
   "execution_count": 108,
   "metadata": {
    "execution": {
     "iopub.execute_input": "2022-06-17T14:34:13.408477Z",
     "iopub.status.busy": "2022-06-17T14:34:13.408107Z",
     "iopub.status.idle": "2022-06-17T14:34:13.414273Z",
     "shell.execute_reply": "2022-06-17T14:34:13.413363Z",
     "shell.execute_reply.started": "2022-06-17T14:34:13.408445Z"
    }
   },
   "outputs": [],
   "source": [
    "# Make a copy of the independent features dataset\n",
    "messages = X.copy()"
   ]
  },
  {
   "cell_type": "code",
   "execution_count": 109,
   "metadata": {
    "execution": {
     "iopub.execute_input": "2022-06-17T14:34:13.669044Z",
     "iopub.status.busy": "2022-06-17T14:34:13.668363Z",
     "iopub.status.idle": "2022-06-17T14:34:13.676826Z",
     "shell.execute_reply": "2022-06-17T14:34:13.675934Z",
     "shell.execute_reply.started": "2022-06-17T14:34:13.669006Z"
    }
   },
   "outputs": [],
   "source": [
    "# dropna had removed certain indices, so we remap them\n",
    "messages.reset_index(inplace=True)"
   ]
  },
  {
   "cell_type": "code",
   "execution_count": 110,
   "metadata": {
    "execution": {
     "iopub.execute_input": "2022-06-17T14:34:13.908931Z",
     "iopub.status.busy": "2022-06-17T14:34:13.908108Z",
     "iopub.status.idle": "2022-06-17T14:34:13.913075Z",
     "shell.execute_reply": "2022-06-17T14:34:13.912355Z",
     "shell.execute_reply.started": "2022-06-17T14:34:13.908895Z"
    }
   },
   "outputs": [],
   "source": [
    "# Text cleaning and preprocessing\n",
    "import nltk\n",
    "from nltk.corpus import stopwords\n",
    "import re"
   ]
  },
  {
   "cell_type": "code",
   "execution_count": 111,
   "metadata": {
    "execution": {
     "iopub.execute_input": "2022-06-17T14:34:14.121176Z",
     "iopub.status.busy": "2022-06-17T14:34:14.120436Z",
     "iopub.status.idle": "2022-06-17T14:34:46.588214Z",
     "shell.execute_reply": "2022-06-17T14:34:46.587328Z",
     "shell.execute_reply.started": "2022-06-17T14:34:14.121143Z"
    }
   },
   "outputs": [
    {
     "name": "stdout",
     "output_type": "stream",
     "text": [
      "1000\n",
      "2000\n",
      "3000\n",
      "4000\n",
      "5000\n",
      "6000\n",
      "7000\n",
      "8000\n",
      "9000\n",
      "10000\n",
      "11000\n",
      "12000\n",
      "13000\n",
      "14000\n",
      "15000\n",
      "16000\n",
      "17000\n",
      "18000\n"
     ]
    },
    {
     "data": {
      "text/plain": [
       "'hous dem aid even see comey letter jason chaffetz tweet'"
      ]
     },
     "execution_count": 111,
     "metadata": {},
     "output_type": "execute_result"
    }
   ],
   "source": [
    "from nltk.stem.porter import PorterStemmer\n",
    "ps = PorterStemmer()\n",
    "corpus = []\n",
    "for i in range(len(messages)):\n",
    "    if (i+1)%1000==0:\n",
    "        print(i+1)\n",
    "    review = re.sub(r'[^a-zA-Z]', ' ', messages['title'][i])\n",
    "    review = review.lower()\n",
    "    review = review.split()\n",
    "    review = [ps.stem(word) for word in review if not word in stopwords.words('english')]\n",
    "    review = ' '.join(review)\n",
    "    corpus.append(review)\n",
    "corpus[0]"
   ]
  },
  {
   "cell_type": "code",
   "execution_count": 112,
   "metadata": {
    "execution": {
     "iopub.execute_input": "2022-06-17T14:34:46.590370Z",
     "iopub.status.busy": "2022-06-17T14:34:46.589964Z",
     "iopub.status.idle": "2022-06-17T14:34:46.815604Z",
     "shell.execute_reply": "2022-06-17T14:34:46.814678Z",
     "shell.execute_reply.started": "2022-06-17T14:34:46.590330Z"
    }
   },
   "outputs": [
    {
     "data": {
      "text/plain": [
       "[261, 1048, 3245, 1007, 2374, 403, 4913, 3298, 4109, 301]"
      ]
     },
     "execution_count": 112,
     "metadata": {},
     "output_type": "execute_result"
    }
   ],
   "source": [
    "# One hot representation\n",
    "onehot_repr = [one_hot(words, voc_size) for words in corpus]\n",
    "onehot_repr[0]"
   ]
  },
  {
   "cell_type": "code",
   "execution_count": 113,
   "metadata": {
    "execution": {
     "iopub.execute_input": "2022-06-17T14:34:46.817396Z",
     "iopub.status.busy": "2022-06-17T14:34:46.816993Z",
     "iopub.status.idle": "2022-06-17T14:34:46.894034Z",
     "shell.execute_reply": "2022-06-17T14:34:46.893123Z",
     "shell.execute_reply.started": "2022-06-17T14:34:46.817359Z"
    }
   },
   "outputs": [
    {
     "name": "stdout",
     "output_type": "stream",
     "text": [
      "[[   0    0    0    0    0    0    0    0    0    0  261 1048 3245 1007\n",
      "  2374  403 4913 3298 4109  301]\n",
      " [   0    0    0    0    0    0    0    0    0    0    0    0    0 3176\n",
      "  2217  523 3211 3753  153  541]\n",
      " [   0    0    0    0    0    0    0    0    0    0    0    0    0    0\n",
      "     0    0 4274 4746 3601 1878]]\n"
     ]
    }
   ],
   "source": [
    "# Word Embedding Represntation\n",
    "# Zero padding the sentence vectors\n",
    "sent_length=20\n",
    "embedded_docs=pad_sequences(onehot_repr,padding='pre',maxlen=sent_length)\n",
    "print(embedded_docs[:3])"
   ]
  },
  {
   "cell_type": "code",
   "execution_count": 114,
   "metadata": {
    "execution": {
     "iopub.execute_input": "2022-06-17T14:34:46.896150Z",
     "iopub.status.busy": "2022-06-17T14:34:46.895699Z",
     "iopub.status.idle": "2022-06-17T14:34:46.901630Z",
     "shell.execute_reply": "2022-06-17T14:34:46.900873Z",
     "shell.execute_reply.started": "2022-06-17T14:34:46.896110Z"
    }
   },
   "outputs": [
    {
     "data": {
      "text/plain": [
       "18285"
      ]
     },
     "execution_count": 114,
     "metadata": {},
     "output_type": "execute_result"
    }
   ],
   "source": [
    "len(embedded_docs)"
   ]
  },
  {
   "cell_type": "code",
   "execution_count": 115,
   "metadata": {
    "execution": {
     "iopub.execute_input": "2022-06-17T14:34:46.903283Z",
     "iopub.status.busy": "2022-06-17T14:34:46.902671Z",
     "iopub.status.idle": "2022-06-17T14:34:46.912341Z",
     "shell.execute_reply": "2022-06-17T14:34:46.911455Z",
     "shell.execute_reply.started": "2022-06-17T14:34:46.903245Z"
    }
   },
   "outputs": [],
   "source": [
    "# Initialize the feature/embedding dimensions\n",
    "dim=40"
   ]
  },
  {
   "cell_type": "code",
   "execution_count": 116,
   "metadata": {
    "execution": {
     "iopub.execute_input": "2022-06-17T14:34:46.915247Z",
     "iopub.status.busy": "2022-06-17T14:34:46.914397Z",
     "iopub.status.idle": "2022-06-17T14:34:47.141353Z",
     "shell.execute_reply": "2022-06-17T14:34:47.139769Z",
     "shell.execute_reply.started": "2022-06-17T14:34:46.915208Z"
    }
   },
   "outputs": [
    {
     "name": "stdout",
     "output_type": "stream",
     "text": [
      "Model: \"sequential_3\"\n",
      "_________________________________________________________________\n",
      "Layer (type)                 Output Shape              Param #   \n",
      "=================================================================\n",
      "embedding_3 (Embedding)      (None, 20, 40)            200000    \n",
      "_________________________________________________________________\n",
      "dropout (Dropout)            (None, 20, 40)            0         \n",
      "_________________________________________________________________\n",
      "lstm_2 (LSTM)                (None, 100)               56400     \n",
      "_________________________________________________________________\n",
      "dropout_1 (Dropout)          (None, 100)               0         \n",
      "_________________________________________________________________\n",
      "dense_2 (Dense)              (None, 1)                 101       \n",
      "=================================================================\n",
      "Total params: 256,501\n",
      "Trainable params: 256,501\n",
      "Non-trainable params: 0\n",
      "_________________________________________________________________\n",
      "None\n"
     ]
    }
   ],
   "source": [
    "# Instantiate the keras sequential model and add embedding layer, also added dropout layers\n",
    "model=Sequential()\n",
    "model.add(Embedding(voc_size,dim,input_length=sent_length))\n",
    "model.add(Dropout(0.3))\n",
    "model.add(LSTM(100))\n",
    "model.add(Dropout(0.3))\n",
    "model.add(Dense(1, activation='sigmoid'))\n",
    "model.compile(optimizer='adam', loss='binary_crossentropy',metrics=['accuracy'])\n",
    "print(model.summary())"
   ]
  },
  {
   "cell_type": "code",
   "execution_count": 117,
   "metadata": {
    "execution": {
     "iopub.execute_input": "2022-06-17T14:34:47.143020Z",
     "iopub.status.busy": "2022-06-17T14:34:47.142572Z",
     "iopub.status.idle": "2022-06-17T14:34:47.149855Z",
     "shell.execute_reply": "2022-06-17T14:34:47.148985Z",
     "shell.execute_reply.started": "2022-06-17T14:34:47.142981Z"
    }
   },
   "outputs": [
    {
     "data": {
      "text/plain": [
       "(18285, (18285,))"
      ]
     },
     "execution_count": 117,
     "metadata": {},
     "output_type": "execute_result"
    }
   ],
   "source": [
    "len(embedded_docs), y.shape"
   ]
  },
  {
   "cell_type": "code",
   "execution_count": 118,
   "metadata": {
    "execution": {
     "iopub.execute_input": "2022-06-17T14:34:47.154153Z",
     "iopub.status.busy": "2022-06-17T14:34:47.150995Z",
     "iopub.status.idle": "2022-06-17T14:34:47.160629Z",
     "shell.execute_reply": "2022-06-17T14:34:47.159765Z",
     "shell.execute_reply.started": "2022-06-17T14:34:47.154107Z"
    }
   },
   "outputs": [],
   "source": [
    "# Convert the datasets into numpy arrays\n",
    "import numpy as np\n",
    "X_final = np.array(embedded_docs)\n",
    "y_final = np.array(y)"
   ]
  },
  {
   "cell_type": "code",
   "execution_count": 119,
   "metadata": {
    "execution": {
     "iopub.execute_input": "2022-06-17T14:34:47.162831Z",
     "iopub.status.busy": "2022-06-17T14:34:47.162290Z",
     "iopub.status.idle": "2022-06-17T14:34:47.171150Z",
     "shell.execute_reply": "2022-06-17T14:34:47.170016Z",
     "shell.execute_reply.started": "2022-06-17T14:34:47.162789Z"
    }
   },
   "outputs": [
    {
     "data": {
      "text/plain": [
       "((18285, 20), (18285,))"
      ]
     },
     "execution_count": 119,
     "metadata": {},
     "output_type": "execute_result"
    }
   ],
   "source": [
    "X_final.shape, y_final.shape"
   ]
  },
  {
   "cell_type": "code",
   "execution_count": 120,
   "metadata": {
    "execution": {
     "iopub.execute_input": "2022-06-17T14:34:47.174691Z",
     "iopub.status.busy": "2022-06-17T14:34:47.174084Z",
     "iopub.status.idle": "2022-06-17T14:34:47.183171Z",
     "shell.execute_reply": "2022-06-17T14:34:47.182333Z",
     "shell.execute_reply.started": "2022-06-17T14:34:47.174656Z"
    }
   },
   "outputs": [],
   "source": [
    "# Split the data into training and testing\n",
    "from sklearn.model_selection import train_test_split\n",
    "X_train, X_test, y_train, y_test = train_test_split(X_final, y_final, test_size=0.2, random_state=42)"
   ]
  },
  {
   "cell_type": "code",
   "execution_count": 121,
   "metadata": {
    "execution": {
     "iopub.execute_input": "2022-06-17T14:34:47.185995Z",
     "iopub.status.busy": "2022-06-17T14:34:47.185187Z",
     "iopub.status.idle": "2022-06-17T14:34:58.659678Z",
     "shell.execute_reply": "2022-06-17T14:34:58.658928Z",
     "shell.execute_reply.started": "2022-06-17T14:34:47.185958Z"
    }
   },
   "outputs": [
    {
     "name": "stdout",
     "output_type": "stream",
     "text": [
      "Epoch 1/10\n",
      "183/183 [==============================] - 3s 7ms/step - loss: 0.3591 - accuracy: 0.8288 - val_loss: 0.1980 - val_accuracy: 0.9176\n",
      "Epoch 2/10\n",
      "183/183 [==============================] - 1s 5ms/step - loss: 0.1453 - accuracy: 0.9414 - val_loss: 0.2160 - val_accuracy: 0.9060\n",
      "Epoch 3/10\n",
      "183/183 [==============================] - 1s 5ms/step - loss: 0.1073 - accuracy: 0.9598 - val_loss: 0.2161 - val_accuracy: 0.9159\n",
      "Epoch 4/10\n",
      "183/183 [==============================] - 1s 5ms/step - loss: 0.0804 - accuracy: 0.9713 - val_loss: 0.2240 - val_accuracy: 0.9183\n",
      "Epoch 5/10\n",
      "183/183 [==============================] - 1s 5ms/step - loss: 0.0621 - accuracy: 0.9771 - val_loss: 0.2699 - val_accuracy: 0.9129\n",
      "Epoch 6/10\n",
      "183/183 [==============================] - 1s 6ms/step - loss: 0.0443 - accuracy: 0.9856 - val_loss: 0.2939 - val_accuracy: 0.9207\n",
      "Epoch 7/10\n",
      "183/183 [==============================] - 1s 5ms/step - loss: 0.0330 - accuracy: 0.9885 - val_loss: 0.3596 - val_accuracy: 0.9094\n",
      "Epoch 8/10\n",
      "183/183 [==============================] - 1s 5ms/step - loss: 0.0253 - accuracy: 0.9915 - val_loss: 0.4064 - val_accuracy: 0.9193\n",
      "Epoch 9/10\n",
      "183/183 [==============================] - 1s 5ms/step - loss: 0.0186 - accuracy: 0.9936 - val_loss: 0.4032 - val_accuracy: 0.9139\n",
      "Epoch 10/10\n",
      "183/183 [==============================] - 1s 5ms/step - loss: 0.0219 - accuracy: 0.9929 - val_loss: 0.3517 - val_accuracy: 0.9122\n"
     ]
    },
    {
     "data": {
      "text/plain": [
       "<keras.callbacks.History at 0x7f8a68ae4bd0>"
      ]
     },
     "execution_count": 121,
     "metadata": {},
     "output_type": "execute_result"
    }
   ],
   "source": [
    "# Model training\n",
    "model.fit(X_train, y_train, validation_split=0.2, epochs=10, batch_size=64)"
   ]
  },
  {
   "cell_type": "code",
   "execution_count": 122,
   "metadata": {
    "execution": {
     "iopub.execute_input": "2022-06-17T14:34:58.661437Z",
     "iopub.status.busy": "2022-06-17T14:34:58.661057Z",
     "iopub.status.idle": "2022-06-17T14:34:59.118653Z",
     "shell.execute_reply": "2022-06-17T14:34:59.117800Z",
     "shell.execute_reply.started": "2022-06-17T14:34:58.661400Z"
    }
   },
   "outputs": [],
   "source": [
    "preds = model.predict(X_test)"
   ]
  },
  {
   "cell_type": "code",
   "execution_count": 123,
   "metadata": {
    "execution": {
     "iopub.execute_input": "2022-06-17T14:34:59.120824Z",
     "iopub.status.busy": "2022-06-17T14:34:59.119943Z",
     "iopub.status.idle": "2022-06-17T14:34:59.126936Z",
     "shell.execute_reply": "2022-06-17T14:34:59.126194Z",
     "shell.execute_reply.started": "2022-06-17T14:34:59.120791Z"
    }
   },
   "outputs": [],
   "source": [
    "preds_t = (preds>0.5).astype(int)"
   ]
  },
  {
   "cell_type": "code",
   "execution_count": 124,
   "metadata": {
    "execution": {
     "iopub.execute_input": "2022-06-17T14:34:59.129077Z",
     "iopub.status.busy": "2022-06-17T14:34:59.128213Z",
     "iopub.status.idle": "2022-06-17T14:34:59.139247Z",
     "shell.execute_reply": "2022-06-17T14:34:59.138348Z",
     "shell.execute_reply.started": "2022-06-17T14:34:59.129037Z"
    }
   },
   "outputs": [
    {
     "data": {
      "text/plain": [
       "(array([1]), 1)"
      ]
     },
     "execution_count": 124,
     "metadata": {},
     "output_type": "execute_result"
    }
   ],
   "source": [
    "preds_t[0], y_test[0]"
   ]
  },
  {
   "cell_type": "code",
   "execution_count": 125,
   "metadata": {
    "execution": {
     "iopub.execute_input": "2022-06-17T14:34:59.141081Z",
     "iopub.status.busy": "2022-06-17T14:34:59.140678Z",
     "iopub.status.idle": "2022-06-17T14:34:59.150108Z",
     "shell.execute_reply": "2022-06-17T14:34:59.149178Z",
     "shell.execute_reply.started": "2022-06-17T14:34:59.141045Z"
    }
   },
   "outputs": [
    {
     "data": {
      "text/plain": [
       "array([[1],\n",
       "       [0],\n",
       "       [0],\n",
       "       [1],\n",
       "       [1],\n",
       "       [1],\n",
       "       [1],\n",
       "       [1],\n",
       "       [1],\n",
       "       [1]])"
      ]
     },
     "execution_count": 125,
     "metadata": {},
     "output_type": "execute_result"
    }
   ],
   "source": [
    "preds_t[0:10]"
   ]
  },
  {
   "cell_type": "code",
   "execution_count": 126,
   "metadata": {
    "execution": {
     "iopub.execute_input": "2022-06-17T14:34:59.151684Z",
     "iopub.status.busy": "2022-06-17T14:34:59.151268Z",
     "iopub.status.idle": "2022-06-17T14:34:59.169702Z",
     "shell.execute_reply": "2022-06-17T14:34:59.168969Z",
     "shell.execute_reply.started": "2022-06-17T14:34:59.151649Z"
    }
   },
   "outputs": [
    {
     "name": "stdout",
     "output_type": "stream",
     "text": [
      "              precision    recall  f1-score   support\n",
      "\n",
      "           0       0.90      0.93      0.92      2013\n",
      "           1       0.91      0.87      0.89      1644\n",
      "\n",
      "    accuracy                           0.91      3657\n",
      "   macro avg       0.91      0.90      0.90      3657\n",
      "weighted avg       0.91      0.91      0.91      3657\n",
      "\n"
     ]
    }
   ],
   "source": [
    "from sklearn.metrics import accuracy_score, classification_report, ConfusionMatrixDisplay\n",
    "print(classification_report(preds_t, y_test))"
   ]
  },
  {
   "cell_type": "code",
   "execution_count": 127,
   "metadata": {
    "execution": {
     "iopub.execute_input": "2022-06-17T14:34:59.171319Z",
     "iopub.status.busy": "2022-06-17T14:34:59.170967Z",
     "iopub.status.idle": "2022-06-17T14:34:59.178763Z",
     "shell.execute_reply": "2022-06-17T14:34:59.177705Z",
     "shell.execute_reply.started": "2022-06-17T14:34:59.171268Z"
    }
   },
   "outputs": [
    {
     "data": {
      "text/plain": [
       "0.9062072737216298"
      ]
     },
     "execution_count": 127,
     "metadata": {},
     "output_type": "execute_result"
    }
   ],
   "source": [
    "accuracy_score(preds_t, y_test)"
   ]
  },
  {
   "cell_type": "code",
   "execution_count": 128,
   "metadata": {
    "execution": {
     "iopub.execute_input": "2022-06-17T14:34:59.180881Z",
     "iopub.status.busy": "2022-06-17T14:34:59.180357Z",
     "iopub.status.idle": "2022-06-17T14:34:59.390979Z",
     "shell.execute_reply": "2022-06-17T14:34:59.390211Z",
     "shell.execute_reply.started": "2022-06-17T14:34:59.180805Z"
    }
   },
   "outputs": [
    {
     "data": {
      "text/plain": [
       "<sklearn.metrics._plot.confusion_matrix.ConfusionMatrixDisplay at 0x7f8a69e3c8d0>"
      ]
     },
     "execution_count": 128,
     "metadata": {},
     "output_type": "execute_result"
    },
    {
     "data": {
      "image/png": "[encoded data removed]",
      "text/plain": [
       "<Figure size 432x288 with 2 Axes>"
      ]
     },
     "metadata": {
      "needs_background": "light"
     },
     "output_type": "display_data"
    }
   ],
   "source": [
    "ConfusionMatrixDisplay.from_predictions(preds_t, y_test)"
   ]
  },
  {
   "cell_type": "markdown",
   "metadata": {},
   "source": [
    "## Achieved 90% accuracy in fake news classification using LSTM RNN with dropout layer and word embedding"
   ]
  },
  {
   "cell_type": "code",
   "execution_count": null,
   "metadata": {},
   "outputs": [],
   "source": []
  }
 ],
 "metadata": {
  "kernelspec": {
   "display_name": "Python 3 (ipykernel)",
   "language": "python",
   "name": "python3"
  },
  "language_info": {
   "codemirror_mode": {
    "name": "ipython",
    "version": 3
   },
   "file_extension": ".py",
   "mimetype": "text/x-python",
   "name": "python",
   "nbconvert_exporter": "python",
   "pygments_lexer": "ipython3",
   "version": "3.9.12"
  }
 },
 "nbformat": 4,
 "nbformat_minor": 4
}
