{
 "cells": [
  {
   "cell_type": "markdown",
   "metadata": {},
   "source": [
    "# Fake news classification using LSTM, word embeddings, keras sequential"
   ]
  },
  {
   "cell_type": "markdown",
   "metadata": {},
   "source": [
    "In this one will try to use the text column instead of just the title column; Achieved 91% accuracy"
   ]
  },
  {
   "cell_type": "code",
   "execution_count": 2,
   "metadata": {
    "execution": {
     "iopub.execute_input": "2022-06-17T14:53:01.302400Z",
     "iopub.status.busy": "2022-06-17T14:53:01.301995Z",
     "iopub.status.idle": "2022-06-17T14:53:01.317254Z",
     "shell.execute_reply": "2022-06-17T14:53:01.315737Z",
     "shell.execute_reply.started": "2022-06-17T14:53:01.302372Z"
    }
   },
   "outputs": [],
   "source": [
    "# Courtesy Krish Naik\n",
    "# Will run the model on kaggle GPU since will be running a keras LSTM RNN sequential model\n",
    "%config Completer.use_jedi = False"
   ]
  },
  {
   "cell_type": "code",
   "execution_count": 3,
   "metadata": {
    "execution": {
     "iopub.execute_input": "2022-06-17T14:53:03.322282Z",
     "iopub.status.busy": "2022-06-17T14:53:03.321434Z",
     "iopub.status.idle": "2022-06-17T14:53:06.109934Z",
     "shell.execute_reply": "2022-06-17T14:53:06.108953Z",
     "shell.execute_reply.started": "2022-06-17T14:53:03.322247Z"
    }
   },
   "outputs": [
    {
     "data": {
      "text/html": [
       "<div>\n",
       "<style scoped>\n",
       "    .dataframe tbody tr th:only-of-type {\n",
       "        vertical-align: middle;\n",
       "    }\n",
       "\n",
       "    .dataframe tbody tr th {\n",
       "        vertical-align: top;\n",
       "    }\n",
       "\n",
       "    .dataframe thead th {\n",
       "        text-align: right;\n",
       "    }\n",
       "</style>\n",
       "<table border=\"1\" class=\"dataframe\">\n",
       "  <thead>\n",
       "    <tr style=\"text-align: right;\">\n",
       "      <th></th>\n",
       "      <th>id</th>\n",
       "      <th>title</th>\n",
       "      <th>author</th>\n",
       "      <th>text</th>\n",
       "      <th>label</th>\n",
       "    </tr>\n",
       "  </thead>\n",
       "  <tbody>\n",
       "    <tr>\n",
       "      <th>0</th>\n",
       "      <td>0</td>\n",
       "      <td>House Dem Aide: We Didn’t Even See Comey’s Let...</td>\n",
       "      <td>Darrell Lucus</td>\n",
       "      <td>House Dem Aide: We Didn’t Even See Comey’s Let...</td>\n",
       "      <td>1</td>\n",
       "    </tr>\n",
       "    <tr>\n",
       "      <th>1</th>\n",
       "      <td>1</td>\n",
       "      <td>FLYNN: Hillary Clinton, Big Woman on Campus - ...</td>\n",
       "      <td>Daniel J. Flynn</td>\n",
       "      <td>Ever get the feeling your life circles the rou...</td>\n",
       "      <td>0</td>\n",
       "    </tr>\n",
       "    <tr>\n",
       "      <th>2</th>\n",
       "      <td>2</td>\n",
       "      <td>Why the Truth Might Get You Fired</td>\n",
       "      <td>Consortiumnews.com</td>\n",
       "      <td>Why the Truth Might Get You Fired October 29, ...</td>\n",
       "      <td>1</td>\n",
       "    </tr>\n",
       "    <tr>\n",
       "      <th>3</th>\n",
       "      <td>3</td>\n",
       "      <td>15 Civilians Killed In Single US Airstrike Hav...</td>\n",
       "      <td>Jessica Purkiss</td>\n",
       "      <td>Videos 15 Civilians Killed In Single US Airstr...</td>\n",
       "      <td>1</td>\n",
       "    </tr>\n",
       "    <tr>\n",
       "      <th>4</th>\n",
       "      <td>4</td>\n",
       "      <td>Iranian woman jailed for fictional unpublished...</td>\n",
       "      <td>Howard Portnoy</td>\n",
       "      <td>Print \\nAn Iranian woman has been sentenced to...</td>\n",
       "      <td>1</td>\n",
       "    </tr>\n",
       "  </tbody>\n",
       "</table>\n",
       "</div>"
      ],
      "text/plain": [
       "   id                                              title              author  \\\n",
       "0   0  House Dem Aide: We Didn’t Even See Comey’s Let...       Darrell Lucus   \n",
       "1   1  FLYNN: Hillary Clinton, Big Woman on Campus - ...     Daniel J. Flynn   \n",
       "2   2                  Why the Truth Might Get You Fired  Consortiumnews.com   \n",
       "3   3  15 Civilians Killed In Single US Airstrike Hav...     Jessica Purkiss   \n",
       "4   4  Iranian woman jailed for fictional unpublished...      Howard Portnoy   \n",
       "\n",
       "                                                text  label  \n",
       "0  House Dem Aide: We Didn’t Even See Comey’s Let...      1  \n",
       "1  Ever get the feeling your life circles the rou...      0  \n",
       "2  Why the Truth Might Get You Fired October 29, ...      1  \n",
       "3  Videos 15 Civilians Killed In Single US Airstr...      1  \n",
       "4  Print \\nAn Iranian woman has been sentenced to...      1  "
      ]
     },
     "execution_count": 3,
     "metadata": {},
     "output_type": "execute_result"
    }
   ],
   "source": [
    "# Read the csv file\n",
    "import pandas as pd\n",
    "df = pd.read_csv('../input/fake-news/fake_train.csv')\n",
    "df.head()"
   ]
  },
  {
   "cell_type": "code",
   "execution_count": 4,
   "metadata": {
    "execution": {
     "iopub.execute_input": "2022-06-17T14:53:10.706087Z",
     "iopub.status.busy": "2022-06-17T14:53:10.705672Z",
     "iopub.status.idle": "2022-06-17T14:53:10.733863Z",
     "shell.execute_reply": "2022-06-17T14:53:10.732721Z",
     "shell.execute_reply.started": "2022-06-17T14:53:10.706057Z"
    }
   },
   "outputs": [
    {
     "data": {
      "text/html": [
       "<div>\n",
       "<style scoped>\n",
       "    .dataframe tbody tr th:only-of-type {\n",
       "        vertical-align: middle;\n",
       "    }\n",
       "\n",
       "    .dataframe tbody tr th {\n",
       "        vertical-align: top;\n",
       "    }\n",
       "\n",
       "    .dataframe thead th {\n",
       "        text-align: right;\n",
       "    }\n",
       "</style>\n",
       "<table border=\"1\" class=\"dataframe\">\n",
       "  <thead>\n",
       "    <tr style=\"text-align: right;\">\n",
       "      <th></th>\n",
       "      <th>title</th>\n",
       "      <th>author</th>\n",
       "      <th>text</th>\n",
       "      <th>label</th>\n",
       "    </tr>\n",
       "  </thead>\n",
       "  <tbody>\n",
       "    <tr>\n",
       "      <th>0</th>\n",
       "      <td>House Dem Aide: We Didn’t Even See Comey’s Let...</td>\n",
       "      <td>Darrell Lucus</td>\n",
       "      <td>House Dem Aide: We Didn’t Even See Comey’s Let...</td>\n",
       "      <td>1</td>\n",
       "    </tr>\n",
       "  </tbody>\n",
       "</table>\n",
       "</div>"
      ],
      "text/plain": [
       "                                               title         author  \\\n",
       "0  House Dem Aide: We Didn’t Even See Comey’s Let...  Darrell Lucus   \n",
       "\n",
       "                                                text  label  \n",
       "0  House Dem Aide: We Didn’t Even See Comey’s Let...      1  "
      ]
     },
     "execution_count": 4,
     "metadata": {},
     "output_type": "execute_result"
    }
   ],
   "source": [
    "# The id column is redundant, we can drop it off\n",
    "df.drop('id', axis=1, inplace=True)\n",
    "df.head(1)"
   ]
  },
  {
   "cell_type": "code",
   "execution_count": 5,
   "metadata": {
    "execution": {
     "iopub.execute_input": "2022-06-17T14:53:21.956038Z",
     "iopub.status.busy": "2022-06-17T14:53:21.955659Z",
     "iopub.status.idle": "2022-06-17T14:53:21.978249Z",
     "shell.execute_reply": "2022-06-17T14:53:21.976959Z",
     "shell.execute_reply.started": "2022-06-17T14:53:21.956008Z"
    }
   },
   "outputs": [
    {
     "data": {
      "text/plain": [
       "title      558\n",
       "author    1957\n",
       "text        39\n",
       "label        0\n",
       "dtype: int64"
      ]
     },
     "execution_count": 5,
     "metadata": {},
     "output_type": "execute_result"
    }
   ],
   "source": [
    "# Check for nan values\n",
    "df.isnull().sum()"
   ]
  },
  {
   "cell_type": "code",
   "execution_count": 6,
   "metadata": {
    "execution": {
     "iopub.execute_input": "2022-06-17T14:53:55.288426Z",
     "iopub.status.busy": "2022-06-17T14:53:55.287643Z",
     "iopub.status.idle": "2022-06-17T14:53:55.335450Z",
     "shell.execute_reply": "2022-06-17T14:53:55.334374Z",
     "shell.execute_reply.started": "2022-06-17T14:53:55.288380Z"
    }
   },
   "outputs": [
    {
     "data": {
      "text/html": [
       "<div>\n",
       "<style scoped>\n",
       "    .dataframe tbody tr th:only-of-type {\n",
       "        vertical-align: middle;\n",
       "    }\n",
       "\n",
       "    .dataframe tbody tr th {\n",
       "        vertical-align: top;\n",
       "    }\n",
       "\n",
       "    .dataframe thead th {\n",
       "        text-align: right;\n",
       "    }\n",
       "</style>\n",
       "<table border=\"1\" class=\"dataframe\">\n",
       "  <thead>\n",
       "    <tr style=\"text-align: right;\">\n",
       "      <th></th>\n",
       "      <th>index</th>\n",
       "      <th>title</th>\n",
       "      <th>author</th>\n",
       "      <th>text</th>\n",
       "      <th>label</th>\n",
       "    </tr>\n",
       "  </thead>\n",
       "  <tbody>\n",
       "    <tr>\n",
       "      <th>0</th>\n",
       "      <td>0</td>\n",
       "      <td>House Dem Aide: We Didn’t Even See Comey’s Let...</td>\n",
       "      <td>Darrell Lucus</td>\n",
       "      <td>House Dem Aide: We Didn’t Even See Comey’s Let...</td>\n",
       "      <td>1</td>\n",
       "    </tr>\n",
       "    <tr>\n",
       "      <th>1</th>\n",
       "      <td>1</td>\n",
       "      <td>FLYNN: Hillary Clinton, Big Woman on Campus - ...</td>\n",
       "      <td>Daniel J. Flynn</td>\n",
       "      <td>Ever get the feeling your life circles the rou...</td>\n",
       "      <td>0</td>\n",
       "    </tr>\n",
       "  </tbody>\n",
       "</table>\n",
       "</div>"
      ],
      "text/plain": [
       "   index                                              title           author  \\\n",
       "0      0  House Dem Aide: We Didn’t Even See Comey’s Let...    Darrell Lucus   \n",
       "1      1  FLYNN: Hillary Clinton, Big Woman on Campus - ...  Daniel J. Flynn   \n",
       "\n",
       "                                                text  label  \n",
       "0  House Dem Aide: We Didn’t Even See Comey’s Let...      1  \n",
       "1  Ever get the feeling your life circles the rou...      0  "
      ]
     },
     "execution_count": 6,
     "metadata": {},
     "output_type": "execute_result"
    }
   ],
   "source": [
    "# Since about 10% of the values are nan, we can drop these rows\n",
    "df.dropna(inplace=True)\n",
    "\n",
    "# dropna had removed certain indices, so we remap them\n",
    "df.reset_index(inplace=True)\n",
    "df.head(2)"
   ]
  },
  {
   "cell_type": "code",
   "execution_count": 8,
   "metadata": {
    "execution": {
     "iopub.execute_input": "2022-06-17T14:54:30.994889Z",
     "iopub.status.busy": "2022-06-17T14:54:30.994462Z",
     "iopub.status.idle": "2022-06-17T14:54:31.003686Z",
     "shell.execute_reply": "2022-06-17T14:54:31.001607Z",
     "shell.execute_reply.started": "2022-06-17T14:54:30.994855Z"
    }
   },
   "outputs": [
    {
     "data": {
      "text/plain": [
       "4930"
      ]
     },
     "execution_count": 8,
     "metadata": {},
     "output_type": "execute_result"
    }
   ],
   "source": [
    "len(df.text[0])"
   ]
  },
  {
   "cell_type": "code",
   "execution_count": 9,
   "metadata": {
    "execution": {
     "iopub.execute_input": "2022-06-17T14:54:51.714150Z",
     "iopub.status.busy": "2022-06-17T14:54:51.713750Z",
     "iopub.status.idle": "2022-06-17T14:54:51.723263Z",
     "shell.execute_reply": "2022-06-17T14:54:51.721656Z",
     "shell.execute_reply.started": "2022-06-17T14:54:51.714122Z"
    }
   },
   "outputs": [],
   "source": [
    "# Separate the independent and dependent features\n",
    "X = df.iloc[:,:-1]\n",
    "y = df.iloc[:,-1]"
   ]
  },
  {
   "cell_type": "code",
   "execution_count": 10,
   "metadata": {
    "execution": {
     "iopub.execute_input": "2022-06-17T14:54:53.773876Z",
     "iopub.status.busy": "2022-06-17T14:54:53.773147Z",
     "iopub.status.idle": "2022-06-17T14:54:53.780480Z",
     "shell.execute_reply": "2022-06-17T14:54:53.779052Z",
     "shell.execute_reply.started": "2022-06-17T14:54:53.773843Z"
    }
   },
   "outputs": [
    {
     "data": {
      "text/plain": [
       "((18285, 4), (18285,))"
      ]
     },
     "execution_count": 10,
     "metadata": {},
     "output_type": "execute_result"
    }
   ],
   "source": [
    "X.shape, y.shape"
   ]
  },
  {
   "cell_type": "code",
   "execution_count": 11,
   "metadata": {
    "execution": {
     "iopub.execute_input": "2022-06-17T14:55:10.110483Z",
     "iopub.status.busy": "2022-06-17T14:55:10.109980Z",
     "iopub.status.idle": "2022-06-17T14:55:15.944377Z",
     "shell.execute_reply": "2022-06-17T14:55:15.943437Z",
     "shell.execute_reply.started": "2022-06-17T14:55:10.110451Z"
    }
   },
   "outputs": [],
   "source": [
    "import tensorflow as tf"
   ]
  },
  {
   "cell_type": "code",
   "execution_count": 12,
   "metadata": {
    "execution": {
     "iopub.execute_input": "2022-06-17T14:55:15.949692Z",
     "iopub.status.busy": "2022-06-17T14:55:15.948704Z",
     "iopub.status.idle": "2022-06-17T14:55:15.957147Z",
     "shell.execute_reply": "2022-06-17T14:55:15.955910Z",
     "shell.execute_reply.started": "2022-06-17T14:55:15.949662Z"
    }
   },
   "outputs": [
    {
     "data": {
      "text/plain": [
       "'2.6.4'"
      ]
     },
     "execution_count": 12,
     "metadata": {},
     "output_type": "execute_result"
    }
   ],
   "source": [
    "tf.__version__"
   ]
  },
  {
   "cell_type": "code",
   "execution_count": 13,
   "metadata": {
    "execution": {
     "iopub.execute_input": "2022-06-17T14:55:15.960299Z",
     "iopub.status.busy": "2022-06-17T14:55:15.959451Z",
     "iopub.status.idle": "2022-06-17T14:55:16.965298Z",
     "shell.execute_reply": "2022-06-17T14:55:16.964062Z",
     "shell.execute_reply.started": "2022-06-17T14:55:15.960240Z"
    }
   },
   "outputs": [],
   "source": [
    "from tensorflow.keras.layers import Embedding, LSTM, Dense, Dropout\n",
    "from tensorflow.keras.preprocessing.sequence import pad_sequences\n",
    "from tensorflow.keras.models import Sequential\n",
    "from tensorflow.keras.preprocessing.text import one_hot"
   ]
  },
  {
   "cell_type": "code",
   "execution_count": 14,
   "metadata": {
    "execution": {
     "iopub.execute_input": "2022-06-17T14:55:28.861778Z",
     "iopub.status.busy": "2022-06-17T14:55:28.861382Z",
     "iopub.status.idle": "2022-06-17T14:55:28.866827Z",
     "shell.execute_reply": "2022-06-17T14:55:28.865330Z",
     "shell.execute_reply.started": "2022-06-17T14:55:28.861748Z"
    }
   },
   "outputs": [],
   "source": [
    "# Vocabulary size\n",
    "voc_size = 10000"
   ]
  },
  {
   "cell_type": "code",
   "execution_count": 15,
   "metadata": {
    "execution": {
     "iopub.execute_input": "2022-06-17T14:55:32.325244Z",
     "iopub.status.busy": "2022-06-17T14:55:32.324777Z",
     "iopub.status.idle": "2022-06-17T14:55:32.334303Z",
     "shell.execute_reply": "2022-06-17T14:55:32.332914Z",
     "shell.execute_reply.started": "2022-06-17T14:55:32.325217Z"
    }
   },
   "outputs": [],
   "source": [
    "# Make a copy of the independent features dataset\n",
    "messages = X.copy()"
   ]
  },
  {
   "cell_type": "code",
   "execution_count": 16,
   "metadata": {
    "execution": {
     "iopub.execute_input": "2022-06-17T14:56:19.777871Z",
     "iopub.status.busy": "2022-06-17T14:56:19.777338Z",
     "iopub.status.idle": "2022-06-17T14:56:20.805695Z",
     "shell.execute_reply": "2022-06-17T14:56:20.804477Z",
     "shell.execute_reply.started": "2022-06-17T14:56:19.777834Z"
    }
   },
   "outputs": [],
   "source": [
    "# Text cleaning and preprocessing\n",
    "import nltk\n",
    "from nltk.corpus import stopwords\n",
    "import re"
   ]
  },
  {
   "cell_type": "code",
   "execution_count": 17,
   "metadata": {
    "execution": {
     "iopub.execute_input": "2022-06-17T14:56:33.767423Z",
     "iopub.status.busy": "2022-06-17T14:56:33.767017Z",
     "iopub.status.idle": "2022-06-17T15:44:26.443571Z",
     "shell.execute_reply": "2022-06-17T15:44:26.442278Z",
     "shell.execute_reply.started": "2022-06-17T14:56:33.767394Z"
    }
   },
   "outputs": [
    {
     "name": "stdout",
     "output_type": "stream",
     "text": [
      "1000\n",
      "2000\n",
      "3000\n",
      "4000\n",
      "5000\n",
      "6000\n",
      "7000\n",
      "8000\n",
      "9000\n",
      "10000\n",
      "11000\n",
      "12000\n",
      "13000\n",
      "14000\n",
      "15000\n",
      "16000\n",
      "17000\n",
      "18000\n"
     ]
    },
    {
     "data": {
      "text/plain": [
       "'hous dem aid even see comey letter jason chaffetz tweet darrel lucu octob subscrib jason chaffetz stump american fork utah imag courtesi michael jolley avail creativ common licens apolog keith olbermann doubt worst person world week fbi director jame comey accord hous democrat aid look like also know second worst person well turn comey sent infam letter announc fbi look email may relat hillari clinton email server rank democrat relev committe hear comey found via tweet one republican committe chairmen know comey notifi republican chairmen democrat rank member hous intellig judiciari oversight committe agenc review email recent discov order see contain classifi inform long letter went oversight committe chairman jason chaffetz set polit world ablaz tweet fbi dir inform fbi learn exist email appear pertin investig case reopen jason chaffetz jasoninthehous octob cours know case comey actual say review email light unrel case know anthoni weiner sext teenag appar littl thing fact matter chaffetz utah republican alreadi vow initi raft investig hillari win least two year worth possibl entir term worth appar chaffetz thought fbi alreadi work result tweet briefli roil nation cooler head realiz dud accord senior hous democrat aid misread letter may least chaffetz sin aid told shareblu boss democrat even know comey letter time found check twitter democrat rank member relev committe receiv comey letter republican chairmen fact democrat rank member receiv chairman oversight govern reform committe jason chaffetz tweet made public let see got right fbi director tell chaffetz gop committe chairmen major develop potenti polit explos investig neither chaffetz colleagu courtesi let democrat counterpart know instead accord aid made find twitter alreadi talk daili ko comey provid advanc notic letter chaffetz republican give time turn spin machin may make good theater noth far even suggest case noth far suggest comey anyth grossli incompet tone deaf suggest howev chaffetz act way make dan burton darrel issa look like model respons bipartisanship even decenc notifi rank member elijah cum someth explos trampl basic standard fair know grant like chaffetz answer sit ridicul republican district anchor provo orem cook partisan vote index r gave mitt romney punish percent vote moreov republican hous leadership given full support chaffetz plan fish expedit mean turn hot light textbook exampl hous becom republican control also second worst person world darrel lucu darrel someth graduat univers north carolina consid journalist old school attempt turn member religi right colleg succeed turn religi right worst nightmar charismat christian unapologet liber desir stand scare silenc increas surviv abus three year marriag may know daili ko christian dem nc follow twitter darrelllucu connect facebook click buy darrel mello yello connect'"
      ]
     },
     "execution_count": 17,
     "metadata": {},
     "output_type": "execute_result"
    }
   ],
   "source": [
    "from nltk.stem.porter import PorterStemmer\n",
    "ps = PorterStemmer()\n",
    "corpus = []\n",
    "for i in range(len(messages)):\n",
    "    if (i+1)%1000==0:\n",
    "        print(i+1)\n",
    "    review = re.sub(r'[^a-zA-Z]', ' ', messages['text'][i])\n",
    "    review = review.lower()\n",
    "    review = review.split()\n",
    "    review = [ps.stem(word) for word in review if not word in stopwords.words('english')]\n",
    "    review = ' '.join(review)\n",
    "    corpus.append(review)\n",
    "corpus[0]"
   ]
  },
  {
   "cell_type": "code",
   "execution_count": 18,
   "metadata": {
    "execution": {
     "iopub.execute_input": "2022-06-17T15:44:47.672462Z",
     "iopub.status.busy": "2022-06-17T15:44:47.672058Z",
     "iopub.status.idle": "2022-06-17T15:44:47.679474Z",
     "shell.execute_reply": "2022-06-17T15:44:47.678057Z",
     "shell.execute_reply.started": "2022-06-17T15:44:47.672433Z"
    }
   },
   "outputs": [
    {
     "data": {
      "text/plain": [
       "2849"
      ]
     },
     "execution_count": 18,
     "metadata": {},
     "output_type": "execute_result"
    }
   ],
   "source": [
    "len(corpus[0])"
   ]
  },
  {
   "cell_type": "code",
   "execution_count": 20,
   "metadata": {
    "execution": {
     "iopub.execute_input": "2022-06-17T15:45:57.538903Z",
     "iopub.status.busy": "2022-06-17T15:45:57.538095Z",
     "iopub.status.idle": "2022-06-17T15:46:02.094136Z",
     "shell.execute_reply": "2022-06-17T15:46:02.092965Z",
     "shell.execute_reply.started": "2022-06-17T15:45:57.538870Z"
    }
   },
   "outputs": [
    {
     "data": {
      "text/plain": [
       "[847,\n",
       " 4944,\n",
       " 5825,\n",
       " 4766,\n",
       " 7250,\n",
       " 609,\n",
       " 8399,\n",
       " 735,\n",
       " 7452,\n",
       " 4774,\n",
       " 9623,\n",
       " 8053,\n",
       " 6812,\n",
       " 4873,\n",
       " 735,\n",
       " 7452,\n",
       " 7380,\n",
       " 5056,\n",
       " 7683,\n",
       " 1427]"
      ]
     },
     "execution_count": 20,
     "metadata": {},
     "output_type": "execute_result"
    }
   ],
   "source": [
    "# One hot representation\n",
    "onehot_repr = [one_hot(words, voc_size) for words in corpus]\n",
    "onehot_repr[0][:20]"
   ]
  },
  {
   "cell_type": "code",
   "execution_count": 21,
   "metadata": {
    "execution": {
     "iopub.execute_input": "2022-06-17T15:47:22.353268Z",
     "iopub.status.busy": "2022-06-17T15:47:22.352475Z",
     "iopub.status.idle": "2022-06-17T15:47:23.160521Z",
     "shell.execute_reply": "2022-06-17T15:47:23.159360Z",
     "shell.execute_reply.started": "2022-06-17T15:47:22.353238Z"
    }
   },
   "outputs": [
    {
     "name": "stdout",
     "output_type": "stream",
     "text": [
      "[0 0 0 0 0 0 0 0 0 0 0 0 0 0 0 0 0 0 0 0]\n"
     ]
    }
   ],
   "source": [
    "# Word Embedding Represntation\n",
    "# Zero padding the sentence vectors\n",
    "sent_length=3000\n",
    "embedded_docs=pad_sequences(onehot_repr,padding='pre',maxlen=sent_length)\n",
    "print(embedded_docs[0][:20])"
   ]
  },
  {
   "cell_type": "code",
   "execution_count": 22,
   "metadata": {
    "execution": {
     "iopub.execute_input": "2022-06-17T15:47:32.293656Z",
     "iopub.status.busy": "2022-06-17T15:47:32.293265Z",
     "iopub.status.idle": "2022-06-17T15:47:32.301267Z",
     "shell.execute_reply": "2022-06-17T15:47:32.299883Z",
     "shell.execute_reply.started": "2022-06-17T15:47:32.293628Z"
    }
   },
   "outputs": [
    {
     "data": {
      "text/plain": [
       "18285"
      ]
     },
     "execution_count": 22,
     "metadata": {},
     "output_type": "execute_result"
    }
   ],
   "source": [
    "len(embedded_docs)"
   ]
  },
  {
   "cell_type": "code",
   "execution_count": 23,
   "metadata": {
    "execution": {
     "iopub.execute_input": "2022-06-17T15:47:45.121997Z",
     "iopub.status.busy": "2022-06-17T15:47:45.121611Z",
     "iopub.status.idle": "2022-06-17T15:47:45.127044Z",
     "shell.execute_reply": "2022-06-17T15:47:45.125838Z",
     "shell.execute_reply.started": "2022-06-17T15:47:45.121967Z"
    }
   },
   "outputs": [],
   "source": [
    "# Initialize the feature/embedding dimensions\n",
    "dim=100"
   ]
  },
  {
   "cell_type": "code",
   "execution_count": 24,
   "metadata": {
    "execution": {
     "iopub.execute_input": "2022-06-17T15:48:12.410300Z",
     "iopub.status.busy": "2022-06-17T15:48:12.409883Z",
     "iopub.status.idle": "2022-06-17T15:48:16.008085Z",
     "shell.execute_reply": "2022-06-17T15:48:16.006936Z",
     "shell.execute_reply.started": "2022-06-17T15:48:12.410269Z"
    }
   },
   "outputs": [
    {
     "name": "stderr",
     "output_type": "stream",
     "text": [
      "2022-06-17 15:48:12.508055: I tensorflow/stream_executor/cuda/cuda_gpu_executor.cc:937] successful NUMA node read from SysFS had negative value (-1), but there must be at least one NUMA node, so returning NUMA node zero\n",
      "2022-06-17 15:48:12.669972: I tensorflow/stream_executor/cuda/cuda_gpu_executor.cc:937] successful NUMA node read from SysFS had negative value (-1), but there must be at least one NUMA node, so returning NUMA node zero\n",
      "2022-06-17 15:48:12.671271: I tensorflow/stream_executor/cuda/cuda_gpu_executor.cc:937] successful NUMA node read from SysFS had negative value (-1), but there must be at least one NUMA node, so returning NUMA node zero\n",
      "2022-06-17 15:48:12.672883: I tensorflow/core/platform/cpu_feature_guard.cc:142] This TensorFlow binary is optimized with oneAPI Deep Neural Network Library (oneDNN) to use the following CPU instructions in performance-critical operations:  AVX2 FMA\n",
      "To enable them in other operations, rebuild TensorFlow with the appropriate compiler flags.\n",
      "2022-06-17 15:48:12.673272: I tensorflow/stream_executor/cuda/cuda_gpu_executor.cc:937] successful NUMA node read from SysFS had negative value (-1), but there must be at least one NUMA node, so returning NUMA node zero\n",
      "2022-06-17 15:48:12.674225: I tensorflow/stream_executor/cuda/cuda_gpu_executor.cc:937] successful NUMA node read from SysFS had negative value (-1), but there must be at least one NUMA node, so returning NUMA node zero\n",
      "2022-06-17 15:48:12.675130: I tensorflow/stream_executor/cuda/cuda_gpu_executor.cc:937] successful NUMA node read from SysFS had negative value (-1), but there must be at least one NUMA node, so returning NUMA node zero\n",
      "2022-06-17 15:48:15.272099: I tensorflow/stream_executor/cuda/cuda_gpu_executor.cc:937] successful NUMA node read from SysFS had negative value (-1), but there must be at least one NUMA node, so returning NUMA node zero\n",
      "2022-06-17 15:48:15.273225: I tensorflow/stream_executor/cuda/cuda_gpu_executor.cc:937] successful NUMA node read from SysFS had negative value (-1), but there must be at least one NUMA node, so returning NUMA node zero\n",
      "2022-06-17 15:48:15.274215: I tensorflow/stream_executor/cuda/cuda_gpu_executor.cc:937] successful NUMA node read from SysFS had negative value (-1), but there must be at least one NUMA node, so returning NUMA node zero\n",
      "2022-06-17 15:48:15.275192: I tensorflow/core/common_runtime/gpu/gpu_device.cc:1510] Created device /job:localhost/replica:0/task:0/device:GPU:0 with 15403 MB memory:  -> device: 0, name: Tesla P100-PCIE-16GB, pci bus id: 0000:00:04.0, compute capability: 6.0\n"
     ]
    },
    {
     "name": "stdout",
     "output_type": "stream",
     "text": [
      "Model: \"sequential\"\n",
      "_________________________________________________________________\n",
      "Layer (type)                 Output Shape              Param #   \n",
      "=================================================================\n",
      "embedding (Embedding)        (None, 3000, 100)         1000000   \n",
      "_________________________________________________________________\n",
      "dropout (Dropout)            (None, 3000, 100)         0         \n",
      "_________________________________________________________________\n",
      "lstm (LSTM)                  (None, 100)               80400     \n",
      "_________________________________________________________________\n",
      "dropout_1 (Dropout)          (None, 100)               0         \n",
      "_________________________________________________________________\n",
      "dense (Dense)                (None, 1)                 101       \n",
      "=================================================================\n",
      "Total params: 1,080,501\n",
      "Trainable params: 1,080,501\n",
      "Non-trainable params: 0\n",
      "_________________________________________________________________\n",
      "None\n"
     ]
    }
   ],
   "source": [
    "# Instantiate the keras sequential model and add embedding layer, also added dropout layers\n",
    "model=Sequential()\n",
    "model.add(Embedding(voc_size,dim,input_length=sent_length))\n",
    "model.add(Dropout(0.3))\n",
    "model.add(LSTM(100))\n",
    "model.add(Dropout(0.3))\n",
    "model.add(Dense(1, activation='sigmoid'))\n",
    "model.compile(optimizer='adam', loss='binary_crossentropy',metrics=['accuracy'])\n",
    "print(model.summary())"
   ]
  },
  {
   "cell_type": "code",
   "execution_count": 25,
   "metadata": {
    "execution": {
     "iopub.execute_input": "2022-06-17T15:48:32.843001Z",
     "iopub.status.busy": "2022-06-17T15:48:32.842206Z",
     "iopub.status.idle": "2022-06-17T15:48:32.850037Z",
     "shell.execute_reply": "2022-06-17T15:48:32.848751Z",
     "shell.execute_reply.started": "2022-06-17T15:48:32.842970Z"
    }
   },
   "outputs": [
    {
     "data": {
      "text/plain": [
       "(18285, (18285,))"
      ]
     },
     "execution_count": 25,
     "metadata": {},
     "output_type": "execute_result"
    }
   ],
   "source": [
    "len(embedded_docs), y.shape"
   ]
  },
  {
   "cell_type": "code",
   "execution_count": 26,
   "metadata": {
    "execution": {
     "iopub.execute_input": "2022-06-17T15:48:38.036358Z",
     "iopub.status.busy": "2022-06-17T15:48:38.035959Z",
     "iopub.status.idle": "2022-06-17T15:48:38.131148Z",
     "shell.execute_reply": "2022-06-17T15:48:38.129918Z",
     "shell.execute_reply.started": "2022-06-17T15:48:38.036289Z"
    }
   },
   "outputs": [],
   "source": [
    "# Convert the datasets into numpy arrays\n",
    "import numpy as np\n",
    "X_final = np.array(embedded_docs)\n",
    "y_final = np.array(y)"
   ]
  },
  {
   "cell_type": "code",
   "execution_count": 27,
   "metadata": {
    "execution": {
     "iopub.execute_input": "2022-06-17T15:48:40.548978Z",
     "iopub.status.busy": "2022-06-17T15:48:40.548353Z",
     "iopub.status.idle": "2022-06-17T15:48:40.556025Z",
     "shell.execute_reply": "2022-06-17T15:48:40.554905Z",
     "shell.execute_reply.started": "2022-06-17T15:48:40.548945Z"
    }
   },
   "outputs": [
    {
     "data": {
      "text/plain": [
       "((18285, 3000), (18285,))"
      ]
     },
     "execution_count": 27,
     "metadata": {},
     "output_type": "execute_result"
    }
   ],
   "source": [
    "X_final.shape, y_final.shape"
   ]
  },
  {
   "cell_type": "code",
   "execution_count": 28,
   "metadata": {
    "execution": {
     "iopub.execute_input": "2022-06-17T15:48:47.654239Z",
     "iopub.status.busy": "2022-06-17T15:48:47.653843Z",
     "iopub.status.idle": "2022-06-17T15:48:47.749699Z",
     "shell.execute_reply": "2022-06-17T15:48:47.748571Z",
     "shell.execute_reply.started": "2022-06-17T15:48:47.654195Z"
    }
   },
   "outputs": [],
   "source": [
    "# Split the data into training and testing\n",
    "from sklearn.model_selection import train_test_split\n",
    "X_train, X_test, y_train, y_test = train_test_split(X_final, y_final, test_size=0.2, random_state=42)"
   ]
  },
  {
   "cell_type": "code",
   "execution_count": 29,
   "metadata": {
    "execution": {
     "iopub.execute_input": "2022-06-17T15:48:51.044784Z",
     "iopub.status.busy": "2022-06-17T15:48:51.044358Z",
     "iopub.status.idle": "2022-06-17T15:54:13.791989Z",
     "shell.execute_reply": "2022-06-17T15:54:13.790878Z",
     "shell.execute_reply.started": "2022-06-17T15:48:51.044756Z"
    }
   },
   "outputs": [
    {
     "name": "stderr",
     "output_type": "stream",
     "text": [
      "2022-06-17 15:48:51.212668: I tensorflow/compiler/mlir/mlir_graph_optimization_pass.cc:185] None of the MLIR Optimization Passes are enabled (registered 2)\n"
     ]
    },
    {
     "name": "stdout",
     "output_type": "stream",
     "text": [
      "Epoch 1/10\n"
     ]
    },
    {
     "name": "stderr",
     "output_type": "stream",
     "text": [
      "2022-06-17 15:48:54.318950: I tensorflow/stream_executor/cuda/cuda_dnn.cc:369] Loaded cuDNN version 8005\n"
     ]
    },
    {
     "name": "stdout",
     "output_type": "stream",
     "text": [
      "183/183 [==============================] - 37s 176ms/step - loss: 0.3250 - accuracy: 0.8552 - val_loss: 0.2133 - val_accuracy: 0.9166\n",
      "Epoch 2/10\n",
      "183/183 [==============================] - 32s 173ms/step - loss: 0.1576 - accuracy: 0.9443 - val_loss: 0.2855 - val_accuracy: 0.9094\n",
      "Epoch 3/10\n",
      "183/183 [==============================] - 32s 174ms/step - loss: 0.1070 - accuracy: 0.9645 - val_loss: 0.2233 - val_accuracy: 0.9265\n",
      "Epoch 4/10\n",
      "183/183 [==============================] - 31s 172ms/step - loss: 0.0561 - accuracy: 0.9830 - val_loss: 0.2253 - val_accuracy: 0.9173\n",
      "Epoch 5/10\n",
      "183/183 [==============================] - 32s 173ms/step - loss: 0.0435 - accuracy: 0.9880 - val_loss: 0.2798 - val_accuracy: 0.9108\n",
      "Epoch 6/10\n",
      "183/183 [==============================] - 32s 173ms/step - loss: 0.0353 - accuracy: 0.9897 - val_loss: 0.2751 - val_accuracy: 0.9180\n",
      "Epoch 7/10\n",
      "183/183 [==============================] - 32s 174ms/step - loss: 0.0235 - accuracy: 0.9928 - val_loss: 0.3009 - val_accuracy: 0.9026\n",
      "Epoch 8/10\n",
      "183/183 [==============================] - 32s 174ms/step - loss: 0.1972 - accuracy: 0.9172 - val_loss: 0.2483 - val_accuracy: 0.9180\n",
      "Epoch 9/10\n",
      "183/183 [==============================] - 32s 174ms/step - loss: 0.0622 - accuracy: 0.9787 - val_loss: 0.2743 - val_accuracy: 0.9108\n",
      "Epoch 10/10\n",
      "183/183 [==============================] - 32s 175ms/step - loss: 0.0296 - accuracy: 0.9902 - val_loss: 0.3257 - val_accuracy: 0.9142\n"
     ]
    },
    {
     "data": {
      "text/plain": [
       "<keras.callbacks.History at 0x7f5fabcc0e10>"
      ]
     },
     "execution_count": 29,
     "metadata": {},
     "output_type": "execute_result"
    }
   ],
   "source": [
    "# Model training\n",
    "model.fit(X_train, y_train, validation_split=0.2, epochs=10, batch_size=64)"
   ]
  },
  {
   "cell_type": "code",
   "execution_count": 30,
   "metadata": {
    "execution": {
     "iopub.execute_input": "2022-06-17T15:54:29.271018Z",
     "iopub.status.busy": "2022-06-17T15:54:29.270131Z",
     "iopub.status.idle": "2022-06-17T15:54:35.975609Z",
     "shell.execute_reply": "2022-06-17T15:54:35.974583Z",
     "shell.execute_reply.started": "2022-06-17T15:54:29.270984Z"
    }
   },
   "outputs": [],
   "source": [
    "preds = model.predict(X_test)"
   ]
  },
  {
   "cell_type": "code",
   "execution_count": 31,
   "metadata": {
    "execution": {
     "iopub.execute_input": "2022-06-17T15:54:35.978357Z",
     "iopub.status.busy": "2022-06-17T15:54:35.977854Z",
     "iopub.status.idle": "2022-06-17T15:54:35.985967Z",
     "shell.execute_reply": "2022-06-17T15:54:35.982603Z",
     "shell.execute_reply.started": "2022-06-17T15:54:35.978312Z"
    }
   },
   "outputs": [],
   "source": [
    "preds_t = (preds>0.5).astype(int)"
   ]
  },
  {
   "cell_type": "code",
   "execution_count": 32,
   "metadata": {
    "execution": {
     "iopub.execute_input": "2022-06-17T15:54:42.174278Z",
     "iopub.status.busy": "2022-06-17T15:54:42.173854Z",
     "iopub.status.idle": "2022-06-17T15:54:42.182619Z",
     "shell.execute_reply": "2022-06-17T15:54:42.181434Z",
     "shell.execute_reply.started": "2022-06-17T15:54:42.174246Z"
    }
   },
   "outputs": [
    {
     "data": {
      "text/plain": [
       "(array([1]), 1)"
      ]
     },
     "execution_count": 32,
     "metadata": {},
     "output_type": "execute_result"
    }
   ],
   "source": [
    "preds_t[0], y_test[0]"
   ]
  },
  {
   "cell_type": "code",
   "execution_count": 33,
   "metadata": {
    "execution": {
     "iopub.execute_input": "2022-06-17T15:54:48.858979Z",
     "iopub.status.busy": "2022-06-17T15:54:48.858333Z",
     "iopub.status.idle": "2022-06-17T15:54:48.867474Z",
     "shell.execute_reply": "2022-06-17T15:54:48.866290Z",
     "shell.execute_reply.started": "2022-06-17T15:54:48.858945Z"
    }
   },
   "outputs": [
    {
     "data": {
      "text/plain": [
       "array([[1],\n",
       "       [0],\n",
       "       [0],\n",
       "       [0],\n",
       "       [1],\n",
       "       [0],\n",
       "       [0],\n",
       "       [1],\n",
       "       [1],\n",
       "       [1]])"
      ]
     },
     "execution_count": 33,
     "metadata": {},
     "output_type": "execute_result"
    }
   ],
   "source": [
    "preds_t[0:10]"
   ]
  },
  {
   "cell_type": "code",
   "execution_count": 34,
   "metadata": {
    "execution": {
     "iopub.execute_input": "2022-06-17T15:54:57.654908Z",
     "iopub.status.busy": "2022-06-17T15:54:57.654500Z",
     "iopub.status.idle": "2022-06-17T15:54:57.675760Z",
     "shell.execute_reply": "2022-06-17T15:54:57.674710Z",
     "shell.execute_reply.started": "2022-06-17T15:54:57.654880Z"
    }
   },
   "outputs": [
    {
     "name": "stdout",
     "output_type": "stream",
     "text": [
      "              precision    recall  f1-score   support\n",
      "\n",
      "           0       0.94      0.91      0.92      2151\n",
      "           1       0.87      0.91      0.89      1506\n",
      "\n",
      "    accuracy                           0.91      3657\n",
      "   macro avg       0.91      0.91      0.91      3657\n",
      "weighted avg       0.91      0.91      0.91      3657\n",
      "\n"
     ]
    }
   ],
   "source": [
    "from sklearn.metrics import accuracy_score, classification_report, ConfusionMatrixDisplay\n",
    "print(classification_report(preds_t, y_test))"
   ]
  },
  {
   "cell_type": "code",
   "execution_count": 35,
   "metadata": {
    "execution": {
     "iopub.execute_input": "2022-06-17T15:55:01.074287Z",
     "iopub.status.busy": "2022-06-17T15:55:01.073893Z",
     "iopub.status.idle": "2022-06-17T15:55:01.083874Z",
     "shell.execute_reply": "2022-06-17T15:55:01.082694Z",
     "shell.execute_reply.started": "2022-06-17T15:55:01.074258Z"
    }
   },
   "outputs": [
    {
     "data": {
      "text/plain": [
       "0.9105824446267432"
      ]
     },
     "execution_count": 35,
     "metadata": {},
     "output_type": "execute_result"
    }
   ],
   "source": [
    "accuracy_score(preds_t, y_test)"
   ]
  },
  {
   "cell_type": "code",
   "execution_count": 36,
   "metadata": {
    "execution": {
     "iopub.execute_input": "2022-06-17T15:55:05.478567Z",
     "iopub.status.busy": "2022-06-17T15:55:05.477905Z",
     "iopub.status.idle": "2022-06-17T15:55:05.755531Z",
     "shell.execute_reply": "2022-06-17T15:55:05.754502Z",
     "shell.execute_reply.started": "2022-06-17T15:55:05.478519Z"
    }
   },
   "outputs": [
    {
     "data": {
      "text/plain": [
       "<sklearn.metrics._plot.confusion_matrix.ConfusionMatrixDisplay at 0x7f5fac2056d0>"
      ]
     },
     "execution_count": 36,
     "metadata": {},
     "output_type": "execute_result"
    },
    {
     "data": {
      "image/png": "[encoded data removed]",
      "text/plain": [
       "<Figure size 432x288 with 2 Axes>"
      ]
     },
     "metadata": {
      "needs_background": "light"
     },
     "output_type": "display_data"
    }
   ],
   "source": [
    "ConfusionMatrixDisplay.from_predictions(preds_t, y_test)"
   ]
  },
  {
   "cell_type": "markdown",
   "metadata": {},
   "source": [
    "## Achieved 91% accuracy in fake news classification using LSTM RNN with dropout layer and word embedding on text column of dataset instead of title column"
   ]
  },
  {
   "cell_type": "code",
   "execution_count": null,
   "metadata": {},
   "outputs": [],
   "source": []
  }
 ],
 "metadata": {
  "kernelspec": {
   "display_name": "Python 3 (ipykernel)",
   "language": "python",
   "name": "python3"
  },
  "language_info": {
   "codemirror_mode": {
    "name": "ipython",
    "version": 3
   },
   "file_extension": ".py",
   "mimetype": "text/x-python",
   "name": "python",
   "nbconvert_exporter": "python",
   "pygments_lexer": "ipython3",
   "version": "3.9.12"
  }
 },
 "nbformat": 4,
 "nbformat_minor": 4
}
